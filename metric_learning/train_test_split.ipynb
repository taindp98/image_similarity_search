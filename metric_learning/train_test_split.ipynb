{
 "cells": [
  {
   "cell_type": "code",
   "execution_count": 8,
   "metadata": {},
   "outputs": [],
   "source": [
    "import pandas as pd\n",
    "import os\n",
    "from sklearn.model_selection import train_test_split"
   ]
  },
  {
   "cell_type": "code",
   "execution_count": 2,
   "metadata": {},
   "outputs": [],
   "source": [
    "cluster_product_path = '../../resource/full_cluster_product.csv'"
   ]
  },
  {
   "cell_type": "code",
   "execution_count": 3,
   "metadata": {},
   "outputs": [
    {
     "data": {
      "text/html": [
       "<div>\n",
       "<style scoped>\n",
       "    .dataframe tbody tr th:only-of-type {\n",
       "        vertical-align: middle;\n",
       "    }\n",
       "\n",
       "    .dataframe tbody tr th {\n",
       "        vertical-align: top;\n",
       "    }\n",
       "\n",
       "    .dataframe thead th {\n",
       "        text-align: right;\n",
       "    }\n",
       "</style>\n",
       "<table border=\"1\" class=\"dataframe\">\n",
       "  <thead>\n",
       "    <tr style=\"text-align: right;\">\n",
       "      <th></th>\n",
       "      <th>product</th>\n",
       "      <th>path</th>\n",
       "      <th>group</th>\n",
       "    </tr>\n",
       "  </thead>\n",
       "  <tbody>\n",
       "    <tr>\n",
       "      <th>0</th>\n",
       "      <td>66906355</td>\n",
       "      <td>../../data/meta_data/66906355/0.jpg</td>\n",
       "      <td>0</td>\n",
       "    </tr>\n",
       "    <tr>\n",
       "      <th>1</th>\n",
       "      <td>66906355</td>\n",
       "      <td>../../data/meta_data/66906355/1.jpg</td>\n",
       "      <td>0</td>\n",
       "    </tr>\n",
       "    <tr>\n",
       "      <th>2</th>\n",
       "      <td>66906355</td>\n",
       "      <td>../../data/meta_data/66906355/3.jpg</td>\n",
       "      <td>0</td>\n",
       "    </tr>\n",
       "    <tr>\n",
       "      <th>3</th>\n",
       "      <td>66906355</td>\n",
       "      <td>../../data/meta_data/66906355/4.jpg</td>\n",
       "      <td>0</td>\n",
       "    </tr>\n",
       "    <tr>\n",
       "      <th>4</th>\n",
       "      <td>66906355</td>\n",
       "      <td>../../data/meta_data/66906355/5.jpg</td>\n",
       "      <td>0</td>\n",
       "    </tr>\n",
       "    <tr>\n",
       "      <th>...</th>\n",
       "      <td>...</td>\n",
       "      <td>...</td>\n",
       "      <td>...</td>\n",
       "    </tr>\n",
       "    <tr>\n",
       "      <th>15527</th>\n",
       "      <td>89985941</td>\n",
       "      <td>../../data/meta_data/89985941/6.jpg</td>\n",
       "      <td>1</td>\n",
       "    </tr>\n",
       "    <tr>\n",
       "      <th>15528</th>\n",
       "      <td>89985941</td>\n",
       "      <td>../../data/meta_data/89985941/7.jpg</td>\n",
       "      <td>2</td>\n",
       "    </tr>\n",
       "    <tr>\n",
       "      <th>15529</th>\n",
       "      <td>89985941</td>\n",
       "      <td>../../data/meta_data/89985941/8.jpg</td>\n",
       "      <td>2</td>\n",
       "    </tr>\n",
       "    <tr>\n",
       "      <th>15530</th>\n",
       "      <td>89985941</td>\n",
       "      <td>../../data/meta_data/89985941/4.jpg</td>\n",
       "      <td>3</td>\n",
       "    </tr>\n",
       "    <tr>\n",
       "      <th>15531</th>\n",
       "      <td>89985941</td>\n",
       "      <td>../../data/meta_data/89985941/3.jpg</td>\n",
       "      <td>4</td>\n",
       "    </tr>\n",
       "  </tbody>\n",
       "</table>\n",
       "<p>15532 rows × 3 columns</p>\n",
       "</div>"
      ],
      "text/plain": [
       "        product                                 path  group\n",
       "0      66906355  ../../data/meta_data/66906355/0.jpg      0\n",
       "1      66906355  ../../data/meta_data/66906355/1.jpg      0\n",
       "2      66906355  ../../data/meta_data/66906355/3.jpg      0\n",
       "3      66906355  ../../data/meta_data/66906355/4.jpg      0\n",
       "4      66906355  ../../data/meta_data/66906355/5.jpg      0\n",
       "...         ...                                  ...    ...\n",
       "15527  89985941  ../../data/meta_data/89985941/6.jpg      1\n",
       "15528  89985941  ../../data/meta_data/89985941/7.jpg      2\n",
       "15529  89985941  ../../data/meta_data/89985941/8.jpg      2\n",
       "15530  89985941  ../../data/meta_data/89985941/4.jpg      3\n",
       "15531  89985941  ../../data/meta_data/89985941/3.jpg      4\n",
       "\n",
       "[15532 rows x 3 columns]"
      ]
     },
     "execution_count": 3,
     "metadata": {},
     "output_type": "execute_result"
    }
   ],
   "source": [
    "df_product = pd.read_csv(cluster_product_path)\n",
    "df_product"
   ]
  },
  {
   "cell_type": "code",
   "execution_count": 4,
   "metadata": {},
   "outputs": [],
   "source": [
    "unique_prod = list(set(list(df_product['product'])))"
   ]
  },
  {
   "cell_type": "code",
   "execution_count": 9,
   "metadata": {},
   "outputs": [],
   "source": [
    "train_prod,test_prod = train_test_split(unique_prod,test_size=0.25,random_state=0, shuffle=True)"
   ]
  },
  {
   "cell_type": "code",
   "execution_count": 11,
   "metadata": {},
   "outputs": [
    {
     "data": {
      "text/plain": [
       "(2125, 709)"
      ]
     },
     "execution_count": 11,
     "metadata": {},
     "output_type": "execute_result"
    }
   ],
   "source": [
    "len(train_prod),len(test_prod)"
   ]
  },
  {
   "cell_type": "code",
   "execution_count": 19,
   "metadata": {},
   "outputs": [
    {
     "data": {
      "text/html": [
       "<div>\n",
       "<style scoped>\n",
       "    .dataframe tbody tr th:only-of-type {\n",
       "        vertical-align: middle;\n",
       "    }\n",
       "\n",
       "    .dataframe tbody tr th {\n",
       "        vertical-align: top;\n",
       "    }\n",
       "\n",
       "    .dataframe thead th {\n",
       "        text-align: right;\n",
       "    }\n",
       "</style>\n",
       "<table border=\"1\" class=\"dataframe\">\n",
       "  <thead>\n",
       "    <tr style=\"text-align: right;\">\n",
       "      <th></th>\n",
       "      <th>product</th>\n",
       "      <th>path</th>\n",
       "      <th>group</th>\n",
       "    </tr>\n",
       "  </thead>\n",
       "  <tbody>\n",
       "    <tr>\n",
       "      <th>0</th>\n",
       "      <td>66906355</td>\n",
       "      <td>../../data/meta_data/66906355/0.jpg</td>\n",
       "      <td>0</td>\n",
       "    </tr>\n",
       "    <tr>\n",
       "      <th>1</th>\n",
       "      <td>66906355</td>\n",
       "      <td>../../data/meta_data/66906355/1.jpg</td>\n",
       "      <td>0</td>\n",
       "    </tr>\n",
       "    <tr>\n",
       "      <th>2</th>\n",
       "      <td>66906355</td>\n",
       "      <td>../../data/meta_data/66906355/3.jpg</td>\n",
       "      <td>0</td>\n",
       "    </tr>\n",
       "    <tr>\n",
       "      <th>3</th>\n",
       "      <td>66906355</td>\n",
       "      <td>../../data/meta_data/66906355/4.jpg</td>\n",
       "      <td>0</td>\n",
       "    </tr>\n",
       "    <tr>\n",
       "      <th>4</th>\n",
       "      <td>66906355</td>\n",
       "      <td>../../data/meta_data/66906355/5.jpg</td>\n",
       "      <td>0</td>\n",
       "    </tr>\n",
       "    <tr>\n",
       "      <th>...</th>\n",
       "      <td>...</td>\n",
       "      <td>...</td>\n",
       "      <td>...</td>\n",
       "    </tr>\n",
       "    <tr>\n",
       "      <th>15518</th>\n",
       "      <td>89985693</td>\n",
       "      <td>../../data/meta_data/89985693/7.jpg</td>\n",
       "      <td>0</td>\n",
       "    </tr>\n",
       "    <tr>\n",
       "      <th>15519</th>\n",
       "      <td>89985693</td>\n",
       "      <td>../../data/meta_data/89985693/8.jpg</td>\n",
       "      <td>0</td>\n",
       "    </tr>\n",
       "    <tr>\n",
       "      <th>15520</th>\n",
       "      <td>89985693</td>\n",
       "      <td>../../data/meta_data/89985693/5.jpg</td>\n",
       "      <td>1</td>\n",
       "    </tr>\n",
       "    <tr>\n",
       "      <th>15521</th>\n",
       "      <td>89985693</td>\n",
       "      <td>../../data/meta_data/89985693/3.jpg</td>\n",
       "      <td>2</td>\n",
       "    </tr>\n",
       "    <tr>\n",
       "      <th>15522</th>\n",
       "      <td>89985693</td>\n",
       "      <td>../../data/meta_data/89985693/0.jpg</td>\n",
       "      <td>3</td>\n",
       "    </tr>\n",
       "  </tbody>\n",
       "</table>\n",
       "<p>11754 rows × 3 columns</p>\n",
       "</div>"
      ],
      "text/plain": [
       "        product                                 path  group\n",
       "0      66906355  ../../data/meta_data/66906355/0.jpg      0\n",
       "1      66906355  ../../data/meta_data/66906355/1.jpg      0\n",
       "2      66906355  ../../data/meta_data/66906355/3.jpg      0\n",
       "3      66906355  ../../data/meta_data/66906355/4.jpg      0\n",
       "4      66906355  ../../data/meta_data/66906355/5.jpg      0\n",
       "...         ...                                  ...    ...\n",
       "15518  89985693  ../../data/meta_data/89985693/7.jpg      0\n",
       "15519  89985693  ../../data/meta_data/89985693/8.jpg      0\n",
       "15520  89985693  ../../data/meta_data/89985693/5.jpg      1\n",
       "15521  89985693  ../../data/meta_data/89985693/3.jpg      2\n",
       "15522  89985693  ../../data/meta_data/89985693/0.jpg      3\n",
       "\n",
       "[11754 rows x 3 columns]"
      ]
     },
     "execution_count": 19,
     "metadata": {},
     "output_type": "execute_result"
    }
   ],
   "source": [
    "df_product.loc[df_product['product'].isin(train_prod)]"
   ]
  }
 ],
 "metadata": {
  "kernelspec": {
   "display_name": "vision",
   "language": "python",
   "name": "vision"
  },
  "language_info": {
   "codemirror_mode": {
    "name": "ipython",
    "version": 3
   },
   "file_extension": ".py",
   "mimetype": "text/x-python",
   "name": "python",
   "nbconvert_exporter": "python",
   "pygments_lexer": "ipython3",
   "version": "3.6.13"
  }
 },
 "nbformat": 4,
 "nbformat_minor": 4
}
