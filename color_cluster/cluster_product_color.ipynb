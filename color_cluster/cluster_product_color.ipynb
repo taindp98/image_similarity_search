{
 "cells": [
  {
   "cell_type": "code",
   "execution_count": 1,
   "metadata": {},
   "outputs": [],
   "source": [
    "%load_ext autoreload\n",
    "%autoreload 2\n",
    "from glob import glob\n",
    "import numpy as np\n",
    "from utils import compare_product_color,remove_existing,multi_process_product\n",
    "from sklearn.utils import shuffle\n",
    "from tqdm import tqdm\n",
    "from PIL import Image\n",
    "import random\n",
    "import uuid\n",
    "import os\n",
    "import pandas as pd\n",
    "import faiss\n",
    "import multiprocessing as mp\n",
    "import gc\n",
    "from shutil import copyfile"
   ]
  },
  {
   "cell_type": "code",
   "execution_count": 2,
   "metadata": {},
   "outputs": [],
   "source": [
    "_META_DATA_PATH = '../../data/meta_data'\n",
    "_RESOURCE_PATH = '../../resource'"
   ]
  },
  {
   "cell_type": "code",
   "execution_count": 3,
   "metadata": {},
   "outputs": [],
   "source": [
    "i = 28"
   ]
  },
  {
   "cell_type": "code",
   "execution_count": 4,
   "metadata": {},
   "outputs": [],
   "source": [
    "batch_prod = 100\n",
    "list_prod_id = glob(os.path.join(_META_DATA_PATH,'*'))\n",
    "list_prod_id = sorted(list_prod_id)\n",
    "# list_prod_id = list_prod_id[i*batch_prod:(i+1)*(batch_prod)]\n",
    "file_name_tracking = str(i*batch_prod)+'_'+str(len(list_prod_id)) + '.csv'\n",
    "list_prod_id = list_prod_id[i*batch_prod:]\n",
    "\n",
    "list_tracking = []\n",
    "tuple_result_multiprocess = None"
   ]
  },
  {
   "cell_type": "code",
   "execution_count": 5,
   "metadata": {},
   "outputs": [
    {
     "data": {
      "text/plain": [
       "'2800_2851'"
      ]
     },
     "execution_count": 5,
     "metadata": {},
     "output_type": "execute_result"
    }
   ],
   "source": [
    "file_name_tracking"
   ]
  },
  {
   "cell_type": "code",
   "execution_count": 6,
   "metadata": {
    "scrolled": true
   },
   "outputs": [
    {
     "name": "stderr",
     "output_type": "stream",
     "text": [
      "100%|██████████| 51/51 [03:10<00:00,  3.74s/it]\n"
     ]
    }
   ],
   "source": [
    "for prod_id in tqdm(list_prod_id):\n",
    "    list_ids = glob(os.path.join(prod_id,'*.jpg'))\n",
    "    list_ids = sorted(list_ids)\n",
    "    try:\n",
    "        if len(list_ids) > 1:\n",
    "            tuple_result_multiprocess = multi_process_product(list_ids)\n",
    "\n",
    "            list_pair = []\n",
    "\n",
    "            for item1 in list_ids:\n",
    "                sublist_pair = []\n",
    "                for item2 in list_ids:\n",
    "                    pair = [item1,item2]\n",
    "                    sublist_pair.append(pair)\n",
    "                list_pair.append(sublist_pair)\n",
    "\n",
    "            pair_array = np.array(list_pair)\n",
    "            list_pair_triu = pair_array[np.triu_indices(pair_array.shape[0])]\n",
    "\n",
    "            list_pair_rm_dup = []\n",
    "            for item in list_pair_triu.tolist():\n",
    "                if item[0] != item[1]:\n",
    "                    list_pair_rm_dup.append(item)\n",
    "\n",
    "            list_cmp = []\n",
    "\n",
    "            for p in list_pair_rm_dup:\n",
    "                sublist_cmp_group = []\n",
    "    #             print(p)\n",
    "                ## cal list centroids\n",
    "\n",
    "                cmp = compare_product_color(p,tuple_result_multiprocess)\n",
    "                if cmp:\n",
    "                    ## seperate\n",
    "                    ## candidate for group key\n",
    "                    ## key name sorted\n",
    "                    if list_cmp:\n",
    "                        if not p[0] in list(set(sum(list_cmp, []))):\n",
    "                            list_cmp.append([p[0]])\n",
    "                        if not p[1] in list(set(sum(list_cmp, []))):\n",
    "                            list_cmp.append([p[1]])\n",
    "                    else:\n",
    "                        list_cmp.append([p[0]])\n",
    "                        list_cmp.append([p[1]])\n",
    "                else:\n",
    "                    sublist = []\n",
    "                    list_cmp.append(sublist)\n",
    "\n",
    "                    for group_exist in list_cmp:\n",
    "                        if p[0] in group_exist and p[1] not in group_exist:\n",
    "                            group_exist.append(p[1])\n",
    "                        elif p[1] in group_exist and p[0] not in group_exist:\n",
    "                            group_exist.append(p[0])\n",
    "                        elif not p[0] in list(set(sum(list_cmp, []))) or not p[1] in list(set(sum(list_cmp, []))):\n",
    "                            group_exist.append(p[0])\n",
    "                            group_exist.append(p[1])\n",
    "\n",
    "            list_cmp_sort = [sorted(item) for item in list_cmp]\n",
    "            list_cmp_rm_dup = remove_existing(list_cmp_sort)\n",
    "    #         list_cmp_short = [[subitem.split('/')[-1] for subitem in item] for item in list_cmp_rm_dup]\n",
    "\n",
    "            for idx, group in enumerate(list_cmp_rm_dup):\n",
    "                for item in group:\n",
    "                    dict_tracking = {}\n",
    "                    dict_tracking['product'] = prod_id.split('/')[-1]\n",
    "                    dict_tracking['path'] = item\n",
    "                    dict_tracking['group'] = idx\n",
    "                    list_tracking.append(dict_tracking)\n",
    "\n",
    "        else:           \n",
    "            dict_tracking = {}\n",
    "            dict_tracking['product'] = prod_id.split('/')[-1]\n",
    "            dict_tracking['path'] = list_ids[0]\n",
    "            dict_tracking['group'] = 0\n",
    "            list_tracking.append(dict_tracking)\n",
    "            \n",
    "        \n",
    "    except Exception as e:\n",
    "        print('Fail at {0} caused {1}'.format(prod_id,str(e)))"
   ]
  },
  {
   "cell_type": "code",
   "execution_count": 7,
   "metadata": {},
   "outputs": [],
   "source": [
    "df_tracking = pd.DataFrame(list_tracking)\n",
    "\n",
    "df_tracking.to_csv(os.path.join(_RESOURCE_PATH,file_name_tracking),header=True,index=False)"
   ]
  }
 ],
 "metadata": {
  "kernelspec": {
   "display_name": "vision",
   "language": "python",
   "name": "vision"
  },
  "language_info": {
   "codemirror_mode": {
    "name": "ipython",
    "version": 3
   },
   "file_extension": ".py",
   "mimetype": "text/x-python",
   "name": "python",
   "nbconvert_exporter": "python",
   "pygments_lexer": "ipython3",
   "version": "3.6.13"
  }
 },
 "nbformat": 4,
 "nbformat_minor": 4
}
