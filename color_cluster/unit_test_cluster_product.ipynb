{
 "cells": [
  {
   "cell_type": "code",
   "execution_count": 1,
   "metadata": {},
   "outputs": [],
   "source": [
    "%load_ext autoreload\n",
    "%autoreload 2\n",
    "from utils import preprocess,\\\n",
    "                    multi_single_color_reg,\\\n",
    "                    recreate_image,\\\n",
    "                    show_color_range,\\\n",
    "                    percent_color,\\\n",
    "                    check_possible_white_color,\\\n",
    "                    compare_product_color,\\\n",
    "                    get_centroids,\\\n",
    "                    get_major_color,\\\n",
    "                    check_sublist,\\\n",
    "                    remove_existing\n",
    "\n",
    "from glob import glob\n",
    "import os\n",
    "from sklearn.utils import shuffle\n",
    "from tqdm import tqdm\n",
    "from PIL import Image\n",
    "import numpy as np\n",
    "import random\n",
    "import uuid"
   ]
  },
  {
   "cell_type": "code",
   "execution_count": 2,
   "metadata": {},
   "outputs": [],
   "source": [
    "_META_DATA_PATH = '../../data/meta_data'\n",
    "_META_DATA_SEPERATE_PATH = '../../data/meta_data_sep'\n",
    "_RESOURCE_PATH = '../../resource'\n",
    "\n",
    "if not os.path.isdir(_META_DATA_SEPERATE_PATH):\n",
    "    os.mkdir(_META_DATA_SEPERATE_PATH)"
   ]
  },
  {
   "cell_type": "code",
   "execution_count": 3,
   "metadata": {},
   "outputs": [
    {
     "data": {
      "text/plain": [
       "681"
      ]
     },
     "execution_count": 3,
     "metadata": {},
     "output_type": "execute_result"
    }
   ],
   "source": [
    "random_test_case = random.randint(100,1000)\n",
    "random_test_case"
   ]
  },
  {
   "cell_type": "code",
   "execution_count": 4,
   "metadata": {},
   "outputs": [],
   "source": [
    "# curr_prod_id = glob(os.path.join(_META_DATA_PATH,'*'))\n",
    "# curr_prod_id = glob(os.path.join(_META_DATA_PATH,'11494464'))\n",
    "curr_prod_id = glob(os.path.join(_META_DATA_PATH,'*'))[random_test_case:random_test_case+50]"
   ]
  },
  {
   "cell_type": "code",
   "execution_count": 5,
   "metadata": {},
   "outputs": [],
   "source": [
    "log_testing_path = os.path.join(_RESOURCE_PATH,'log_testing_18may.txt')"
   ]
  },
  {
   "cell_type": "code",
   "execution_count": 6,
   "metadata": {
    "tags": []
   },
   "outputs": [
    {
     "name": "stderr",
     "output_type": "stream",
     "text": [
      "100%|██████████| 50/50 [43:42<00:00, 52.46s/it]\n"
     ]
    }
   ],
   "source": [
    "\n",
    "for prod_id in tqdm(curr_prod_id):\n",
    "    log = open(log_testing_path,'a+')\n",
    "    list_ids = glob(os.path.join(prod_id,'*.jpg'))\n",
    "    list_ids = sorted(list_ids)\n",
    "    if len(list_ids) > 1:\n",
    "        ## create pair\n",
    "        \n",
    "        list_pair = []\n",
    "        \n",
    "        for item1 in list_ids:\n",
    "            sublist_pair = []\n",
    "            for item2 in list_ids:\n",
    "                pair = [item1,item2]\n",
    "                sublist_pair.append(pair)\n",
    "            list_pair.append(sublist_pair)\n",
    "        \n",
    "        pair_array = np.array(list_pair)\n",
    "        list_pair_triu = pair_array[np.triu_indices(pair_array.shape[0])]\n",
    "        \n",
    "        list_pair_rm_dup = []\n",
    "        for item in list_pair_triu.tolist():\n",
    "            if item[0] != item[1]:\n",
    "                list_pair_rm_dup.append(item)\n",
    "        \n",
    "        # dict_compare = {}\n",
    "        list_cmp = []\n",
    "\n",
    "        for p in list_pair_rm_dup:\n",
    "            sublist_cmp_group = []\n",
    "            # print(p)\n",
    "            cmp = compare_product_color(p)\n",
    "            if cmp:\n",
    "                ## seperate\n",
    "                ## candidate for group key\n",
    "                ## key name sorted\n",
    "                if list_cmp:\n",
    "                    if not p[0] in list(set(sum(list_cmp, []))):\n",
    "                        list_cmp.append([p[0]])\n",
    "                    if not p[1] in list(set(sum(list_cmp, []))):\n",
    "                        list_cmp.append([p[1]])\n",
    "                else:\n",
    "                    list_cmp.append([p[0]])\n",
    "                    list_cmp.append([p[1]])\n",
    "            else:\n",
    "                sublist = []\n",
    "                # if not p[0] in list(set(sum(list_cmp, []))):\n",
    "                #     sublist.append(p[0])\n",
    "                # if not p[1] in list(set(sum(list_cmp, []))):\n",
    "                #     sublist.append(p[1])\n",
    "                # if sublist:\n",
    "                list_cmp.append(sublist)\n",
    "                \n",
    "                # else:\n",
    "                for group_exist in list_cmp:\n",
    "                    if p[0] in group_exist and p[1] not in group_exist:\n",
    "                        group_exist.append(p[1])\n",
    "                    elif p[1] in group_exist and p[0] not in group_exist:\n",
    "                        group_exist.append(p[0])\n",
    "                    elif not p[0] in list(set(sum(list_cmp, []))) or not p[1] in list(set(sum(list_cmp, []))):\n",
    "                        group_exist.append(p[0])\n",
    "                        group_exist.append(p[1])\n",
    "\n",
    "        list_cmp_sort = [sorted(item) for item in list_cmp]\n",
    "        list_cmp_rm_dup = remove_existing(list_cmp_sort)\n",
    "\n",
    "        \n",
    "\n",
    "        list_cmp_short = [[subitem.split('/')[-1].replace('.jpg','') for subitem in item] for item in list_cmp_rm_dup]\n",
    "        dict_log = {}\n",
    "        dict_log['product'] = prod_id\n",
    "        dict_log['group'] = list_cmp_short\n",
    "        log.write(str(dict_log).replace(r\"'\",r'\"'))\n",
    "        log.write('\\n')\n",
    "        # print('='*50)\n",
    "        # print(list_cmp_rm_dup)"
   ]
  },
  {
   "cell_type": "code",
   "execution_count": 7,
   "metadata": {},
   "outputs": [],
   "source": [
    "# dict_log"
   ]
  }
 ],
 "metadata": {
  "kernelspec": {
   "display_name": "vision",
   "language": "python",
   "name": "vision"
  },
  "language_info": {
   "codemirror_mode": {
    "name": "ipython",
    "version": 3
   },
   "file_extension": ".py",
   "mimetype": "text/x-python",
   "name": "python",
   "nbconvert_exporter": "python",
   "pygments_lexer": "ipython3",
   "version": "3.6.13"
  }
 },
 "nbformat": 4,
 "nbformat_minor": 4
}
