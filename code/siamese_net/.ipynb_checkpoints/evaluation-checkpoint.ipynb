{
 "cells": [
  {
   "cell_type": "code",
   "execution_count": 1,
   "metadata": {},
   "outputs": [],
   "source": [
    "%load_ext autoreload\n",
    "%autoreload 2\n",
    "import os\n",
    "import torch\n",
    "from glob import glob\n",
    "import sys\n",
    "from PIL import Image\n",
    "import pandas as pd\n",
    "from tqdm import tqdm\n",
    "import pickle\n",
    "import random"
   ]
  },
  {
   "cell_type": "code",
   "execution_count": 2,
   "metadata": {},
   "outputs": [
    {
     "name": "stderr",
     "output_type": "stream",
     "text": [
      "/home/taindp/anaconda3/envs/vision/lib/python3.6/site-packages/torchvision/transforms/transforms.py:1322: UserWarning: Argument interpolation should be of type InterpolationMode instead of int. Please, use InterpolationMode enum.\n",
      "  \"Argument interpolation should be of type InterpolationMode instead of int. \"\n"
     ]
    },
    {
     "name": "stdout",
     "output_type": "stream",
     "text": [
      "cpu\n"
     ]
    }
   ],
   "source": [
    "from model_class import *\n",
    "from custom_transforms import transform_test\n",
    "from custom_dataloader import EncodeDataFactory, TripletDataFactory\n",
    "\n",
    "import torch\n",
    "from encode_pipeline import *\n",
    "from utils import visualize_group,export_pickle_file\n",
    "# from train_pipeline import val_step"
   ]
  },
  {
   "cell_type": "code",
   "execution_count": 3,
   "metadata": {},
   "outputs": [],
   "source": [
    "_MODEL_PATH = '../../model'\n",
    "_IMG_PATH = '../../data/meta_data'\n",
    "_RESOURCE_PATH = '../../resource'\n",
    "_ENCODE_VAL = '../../encode_val'\n",
    "_ENCODE_FULL = '../../encode_full'"
   ]
  },
  {
   "cell_type": "code",
   "execution_count": 4,
   "metadata": {},
   "outputs": [],
   "source": [
    "def synthesize_encode(_ENCODE_VAL):\n",
    "    list_file_enc = glob(os.path.join(_ENCODE_VAL,'*'))\n",
    "    list_file_enc = sorted(list_file_enc)\n",
    "    # len(list_file_enc)\n",
    "    n = 3\n",
    "    list_file_enc_group = [sorted(list_file_enc[k:k+n]) for k in range(0, len(list_file_enc), n)]\n",
    "#     list_id = []\n",
    "    list_path = []\n",
    "    list_vector = []\n",
    "    for group in list_file_enc_group:\n",
    "        _id,path,vector = group\n",
    "        _id = torch.load(_id).numpy().tolist()\n",
    "#         list_id += _id\n",
    "        path = list(torch.load(path))\n",
    "        list_path += path\n",
    "        vector = torch.load(vector,map_location=torch.device('cpu'))\n",
    "        list_vector.append(vector)\n",
    "    \n",
    "    full_vector = torch.cat(list_vector,0)\n",
    "#     print(full_vector.shape)\n",
    "    \n",
    "    ## check duplicate\n",
    "    unique_vector = []\n",
    "    unique_path = []\n",
    "    for idx, item in enumerate(list_path):\n",
    "        if not item in unique_path:\n",
    "            unique_path.append(item)\n",
    "            unique_vector.append(full_vector[idx])\n",
    "    \n",
    "    return unique_vector,unique_path"
   ]
  },
  {
   "cell_type": "code",
   "execution_count": 5,
   "metadata": {},
   "outputs": [],
   "source": [
    "vector_val,path_val = synthesize_encode(_ENCODE_VAL)\n",
    "# vector_full,path_full = synthesize_encode(_ENCODE_FULL)"
   ]
  },
  {
   "cell_type": "code",
   "execution_count": 53,
   "metadata": {},
   "outputs": [],
   "source": [
    "# path_val"
   ]
  },
  {
   "cell_type": "code",
   "execution_count": 7,
   "metadata": {},
   "outputs": [],
   "source": [
    "# len(path_full),len(path_val)"
   ]
  },
  {
   "cell_type": "code",
   "execution_count": 8,
   "metadata": {},
   "outputs": [],
   "source": [
    "df_val = pd.read_csv(os.path.join(_RESOURCE_PATH,'df_val.csv'))\n",
    "# df_val"
   ]
  },
  {
   "cell_type": "code",
   "execution_count": 9,
   "metadata": {},
   "outputs": [
    {
     "data": {
      "text/html": [
       "<div>\n",
       "<style scoped>\n",
       "    .dataframe tbody tr th:only-of-type {\n",
       "        vertical-align: middle;\n",
       "    }\n",
       "\n",
       "    .dataframe tbody tr th {\n",
       "        vertical-align: top;\n",
       "    }\n",
       "\n",
       "    .dataframe thead th {\n",
       "        text-align: right;\n",
       "    }\n",
       "</style>\n",
       "<table border=\"1\" class=\"dataframe\">\n",
       "  <thead>\n",
       "    <tr style=\"text-align: right;\">\n",
       "      <th></th>\n",
       "      <th>product</th>\n",
       "      <th>path</th>\n",
       "      <th>group</th>\n",
       "    </tr>\n",
       "  </thead>\n",
       "  <tbody>\n",
       "    <tr>\n",
       "      <th>0</th>\n",
       "      <td>66911001</td>\n",
       "      <td>../../data/meta_data/66911001/0.jpg</td>\n",
       "      <td>0</td>\n",
       "    </tr>\n",
       "    <tr>\n",
       "      <th>1</th>\n",
       "      <td>67077697</td>\n",
       "      <td>../../data/meta_data/67077697/4.jpg</td>\n",
       "      <td>0</td>\n",
       "    </tr>\n",
       "    <tr>\n",
       "      <th>2</th>\n",
       "      <td>67077697</td>\n",
       "      <td>../../data/meta_data/67077697/5.jpg</td>\n",
       "      <td>0</td>\n",
       "    </tr>\n",
       "    <tr>\n",
       "      <th>3</th>\n",
       "      <td>67077697</td>\n",
       "      <td>../../data/meta_data/67077697/1.jpg</td>\n",
       "      <td>1</td>\n",
       "    </tr>\n",
       "    <tr>\n",
       "      <th>4</th>\n",
       "      <td>67077697</td>\n",
       "      <td>../../data/meta_data/67077697/3.jpg</td>\n",
       "      <td>1</td>\n",
       "    </tr>\n",
       "    <tr>\n",
       "      <th>...</th>\n",
       "      <td>...</td>\n",
       "      <td>...</td>\n",
       "      <td>...</td>\n",
       "    </tr>\n",
       "    <tr>\n",
       "      <th>3809</th>\n",
       "      <td>89985941</td>\n",
       "      <td>../../data/meta_data/89985941/6.jpg</td>\n",
       "      <td>1</td>\n",
       "    </tr>\n",
       "    <tr>\n",
       "      <th>3810</th>\n",
       "      <td>89985941</td>\n",
       "      <td>../../data/meta_data/89985941/7.jpg</td>\n",
       "      <td>2</td>\n",
       "    </tr>\n",
       "    <tr>\n",
       "      <th>3811</th>\n",
       "      <td>89985941</td>\n",
       "      <td>../../data/meta_data/89985941/8.jpg</td>\n",
       "      <td>2</td>\n",
       "    </tr>\n",
       "    <tr>\n",
       "      <th>3812</th>\n",
       "      <td>89985941</td>\n",
       "      <td>../../data/meta_data/89985941/4.jpg</td>\n",
       "      <td>3</td>\n",
       "    </tr>\n",
       "    <tr>\n",
       "      <th>3813</th>\n",
       "      <td>89985941</td>\n",
       "      <td>../../data/meta_data/89985941/3.jpg</td>\n",
       "      <td>4</td>\n",
       "    </tr>\n",
       "  </tbody>\n",
       "</table>\n",
       "<p>3814 rows × 3 columns</p>\n",
       "</div>"
      ],
      "text/plain": [
       "       product                                 path  group\n",
       "0     66911001  ../../data/meta_data/66911001/0.jpg      0\n",
       "1     67077697  ../../data/meta_data/67077697/4.jpg      0\n",
       "2     67077697  ../../data/meta_data/67077697/5.jpg      0\n",
       "3     67077697  ../../data/meta_data/67077697/1.jpg      1\n",
       "4     67077697  ../../data/meta_data/67077697/3.jpg      1\n",
       "...        ...                                  ...    ...\n",
       "3809  89985941  ../../data/meta_data/89985941/6.jpg      1\n",
       "3810  89985941  ../../data/meta_data/89985941/7.jpg      2\n",
       "3811  89985941  ../../data/meta_data/89985941/8.jpg      2\n",
       "3812  89985941  ../../data/meta_data/89985941/4.jpg      3\n",
       "3813  89985941  ../../data/meta_data/89985941/3.jpg      4\n",
       "\n",
       "[3814 rows x 3 columns]"
      ]
     },
     "execution_count": 9,
     "metadata": {},
     "output_type": "execute_result"
    }
   ],
   "source": [
    "df_val"
   ]
  },
  {
   "cell_type": "code",
   "execution_count": 15,
   "metadata": {},
   "outputs": [],
   "source": [
    "a = [1,23,4]"
   ]
  },
  {
   "cell_type": "code",
   "execution_count": 45,
   "metadata": {},
   "outputs": [
    {
     "data": {
      "text/plain": [
       "[1, 23]"
      ]
     },
     "execution_count": 45,
     "metadata": {},
     "output_type": "execute_result"
    }
   ],
   "source": [
    "random.sample(a,2)"
   ]
  },
  {
   "cell_type": "code",
   "execution_count": 124,
   "metadata": {},
   "outputs": [],
   "source": [
    "i=0\n",
    "unique_prod_val = list(set(list(df_val['product'])))\n",
    "list_regular = []"
   ]
  },
  {
   "cell_type": "code",
   "execution_count": 1046,
   "metadata": {
    "scrolled": true
   },
   "outputs": [
    {
     "ename": "IndexError",
     "evalue": "list index out of range",
     "output_type": "error",
     "traceback": [
      "\u001b[0;31m---------------------------------------------------------------------------\u001b[0m",
      "\u001b[0;31mIndexError\u001b[0m                                Traceback (most recent call last)",
      "\u001b[0;32m<ipython-input-1046-5a0007196bd2>\u001b[0m in \u001b[0;36m<module>\u001b[0;34m\u001b[0m\n\u001b[1;32m      1\u001b[0m \u001b[0;31m# for item in tqdm(unique_prod_val):\u001b[0m\u001b[0;34m\u001b[0m\u001b[0;34m\u001b[0m\u001b[0;34m\u001b[0m\u001b[0m\n\u001b[0;32m----> 2\u001b[0;31m \u001b[0mitem\u001b[0m \u001b[0;34m=\u001b[0m \u001b[0munique_prod_val\u001b[0m\u001b[0;34m[\u001b[0m\u001b[0mi\u001b[0m\u001b[0;34m]\u001b[0m\u001b[0;34m\u001b[0m\u001b[0;34m\u001b[0m\u001b[0m\n\u001b[0m\u001b[1;32m      3\u001b[0m \u001b[0mc\u001b[0m \u001b[0;34m=\u001b[0m \u001b[0mlist\u001b[0m\u001b[0;34m(\u001b[0m\u001b[0mdf_val\u001b[0m\u001b[0;34m[\u001b[0m\u001b[0;34m'product'\u001b[0m\u001b[0;34m]\u001b[0m\u001b[0;34m)\u001b[0m\u001b[0;34m.\u001b[0m\u001b[0mcount\u001b[0m\u001b[0;34m(\u001b[0m\u001b[0mitem\u001b[0m\u001b[0;34m)\u001b[0m\u001b[0;34m\u001b[0m\u001b[0;34m\u001b[0m\u001b[0m\n\u001b[1;32m      4\u001b[0m \u001b[0;32mif\u001b[0m \u001b[0mc\u001b[0m \u001b[0;34m>=\u001b[0m \u001b[0;36m2\u001b[0m\u001b[0;34m:\u001b[0m\u001b[0;34m\u001b[0m\u001b[0;34m\u001b[0m\u001b[0m\n\u001b[1;32m      5\u001b[0m \u001b[0;34m\u001b[0m\u001b[0m\n",
      "\u001b[0;31mIndexError\u001b[0m: list index out of range"
     ]
    }
   ],
   "source": [
    "\n",
    "# for item in tqdm(unique_prod_val):\n",
    "item = unique_prod_val[i]\n",
    "c = list(df_val['product']).count(item)\n",
    "if c >= 2:\n",
    "\n",
    "    dict_tmp = {}\n",
    "\n",
    "    query_prod_val = df_val[df_val['product']==item]\n",
    "    dict_prod_val = query_prod_val.to_dict('record')\n",
    "\n",
    "#         sample_prod_val = random.sample(dict_prod_val, 2)\n",
    "    input_ = random.choice(dict_prod_val)\n",
    "    target = random.choice(dict_prod_val)\n",
    "\n",
    "    while input_['group'] != target['group']:\n",
    "        target = random.choice(dict_prod_val)\n",
    "    dict_tmp['input'] = input_['path']\n",
    "    dict_tmp['target'] = target['path']\n",
    "    if dict_tmp['input'] != dict_tmp['target']:\n",
    "        visualize_group([dict_tmp['input'],dict_tmp['target']],i)\n",
    "i+=1"
   ]
  },
  {
   "cell_type": "code",
   "execution_count": 1044,
   "metadata": {},
   "outputs": [
    {
     "name": "stdout",
     "output_type": "stream",
     "text": [
      "{'input': '../../data/meta_data/46991335/0.jpg', 'target': '../../data/meta_data/46991335/1.jpg'}\n"
     ]
    }
   ],
   "source": [
    "print(dict_tmp)\n",
    "list_regular.append(dict_tmp)"
   ]
  },
  {
   "cell_type": "code",
   "execution_count": 1047,
   "metadata": {},
   "outputs": [
    {
     "data": {
      "text/plain": [
       "190"
      ]
     },
     "execution_count": 1047,
     "metadata": {},
     "output_type": "execute_result"
    }
   ],
   "source": [
    "len(list_regular)"
   ]
  },
  {
   "cell_type": "code",
   "execution_count": 1049,
   "metadata": {},
   "outputs": [],
   "source": [
    "df_regular = pd.DataFrame(list_regular)\n",
    "df_regular.to_csv('../../investigate/regular_validation.csv',header=True,index=False)"
   ]
  },
  {
   "cell_type": "code",
   "execution_count": 1053,
   "metadata": {},
   "outputs": [],
   "source": [
    "def distance(df_regular,path_val,vector_val,top_k):\n",
    "    \n",
    "#     for row in df_regular:\n",
    "    list_input = list(df_regular['input'])\n",
    "    list_target = list(df_regular['target'])\n",
    "    \n",
    "    count = 0\n",
    "    \n",
    "    for step,input_ in tqdm(enumerate(list_input),total=len(list_input)):\n",
    "        \n",
    "        input_idx = path_val.index(input_)\n",
    "        input_vec = vector_val[input_idx]\n",
    "        \n",
    "        dict_score = {}\n",
    "\n",
    "        for idx,target in enumerate(list_target):\n",
    "            target_idx = path_val.index(target) \n",
    "            target_vec = vector_val[target_idx]\n",
    "        \n",
    "            d = torch.norm(input_vec-target_vec)\n",
    "            \n",
    "            dict_score[idx]=d\n",
    "    \n",
    "        score_sort = {k: v for k, v in sorted(dict_score.items(), key=lambda item: item[1])}\n",
    "        top_score = list(score_sort.keys())[:top_k]\n",
    "        \n",
    "        ## check avaiable\n",
    "        for top in top_score:\n",
    "            q = df_regular[(df_regular['input']==input_) & (df_regular['target']==list_target[top])]\n",
    "            if len(q) != 0:\n",
    "#                 visualize_group([input_]+[list_target[top]],step)\n",
    "\n",
    "                count += 1\n",
    "                break\n",
    "#             else:\n",
    "#                 visualize_group([input_]+[list_target[top]],step)\n",
    "#             visualize_group([input_]+[list_target[top_score]],step)\n",
    "            \n",
    "    print(count/len(df_regular))"
   ]
  },
  {
   "cell_type": "code",
   "execution_count": 1059,
   "metadata": {},
   "outputs": [
    {
     "name": "stderr",
     "output_type": "stream",
     "text": [
      "100%|██████████| 190/190 [00:02<00:00, 72.86it/s]"
     ]
    },
    {
     "name": "stdout",
     "output_type": "stream",
     "text": [
      "0.2736842105263158\n"
     ]
    },
    {
     "name": "stderr",
     "output_type": "stream",
     "text": [
      "\n"
     ]
    }
   ],
   "source": [
    "distance(df_regular,path_val,vector_val,3)"
   ]
  }
 ],
 "metadata": {
  "kernelspec": {
   "display_name": "vision",
   "language": "python",
   "name": "vision"
  },
  "language_info": {
   "codemirror_mode": {
    "name": "ipython",
    "version": 3
   },
   "file_extension": ".py",
   "mimetype": "text/x-python",
   "name": "python",
   "nbconvert_exporter": "python",
   "pygments_lexer": "ipython3",
   "version": "3.6.13"
  }
 },
 "nbformat": 4,
 "nbformat_minor": 4
}
