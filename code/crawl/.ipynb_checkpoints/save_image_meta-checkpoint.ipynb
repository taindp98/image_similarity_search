{
 "cells": [
  {
   "cell_type": "code",
   "execution_count": 1,
   "metadata": {},
   "outputs": [],
   "source": [
    "import os\n",
    "import json\n",
    "import pandas as pd\n",
    "from urllib import request\n",
    "from glob import glob\n",
    "from tqdm import tqdm"
   ]
  },
  {
   "cell_type": "code",
   "execution_count": 2,
   "metadata": {},
   "outputs": [],
   "source": [
    "from pydrive.auth import GoogleAuth\n",
    "from pydrive.drive import GoogleDrive"
   ]
  },
  {
   "cell_type": "code",
   "execution_count": 3,
   "metadata": {},
   "outputs": [],
   "source": [
    "def upload_drive(img,id_cloud):\n",
    "    gauth = GoogleAuth()\n",
    "    gauth.LocalWebserverAuth()       \n",
    "    drive = GoogleDrive(gauth)\n",
    "    \n",
    "#     id_folder = '1WMroMn8YMZhhoXcMMeqOzCL2ZHcWXvGi'\n",
    "    \n",
    "    img_name = img.split('/')[-1]\n",
    "    \n",
    "    file_list = drive.ListFile({'q': \"'{}' in parents and trashed=false\".format(id_cloud)}).GetList()        \n",
    "    file_exist = [item['title'] for item in file_list]\n",
    "    \n",
    "    if not img_name in file_exist:\n",
    "        gfile = drive.CreateFile({'parents': [{'id': id_cloud}],'title': img_name})\n",
    "        gfile.SetContentFile(img)\n",
    "        gfile.Upload()"
   ]
  },
  {
   "cell_type": "code",
   "execution_count": 4,
   "metadata": {},
   "outputs": [],
   "source": [
    "_DATA_PATH = '../../data'\n",
    "_META_DATA_PATH = os.path.join(_DATA_PATH,'meta_data')\n",
    "# _BUFFER = os.path.join(_DATA_PATH,'buffer_img')"
   ]
  },
  {
   "cell_type": "code",
   "execution_count": 17,
   "metadata": {},
   "outputs": [],
   "source": [
    "# id_cloud = '1WMroMn8YMZhhoXcMMeqOzCL2ZHcWXvGi'\n",
    "id_cloud = '12kTq--EdJ7TtMqRmQngfJGL2k8ZYpSG4'\n",
    "\n",
    "# id_cloud = '1-ddq6iIHA7evppSxlbnFW6We4uNmypbI'\n",
    "\n",
    "# list_thumb_10k = list_thumb[:10000]\n",
    "# list_id_10k = list_id[:10000]"
   ]
  },
  {
   "cell_type": "code",
   "execution_count": null,
   "metadata": {},
   "outputs": [],
   "source": [
    "upload_drive(save_path,id_cloud)"
   ]
  },
  {
   "cell_type": "code",
   "execution_count": 18,
   "metadata": {},
   "outputs": [
    {
     "data": {
      "text/plain": [
       "2851"
      ]
     },
     "execution_count": 18,
     "metadata": {},
     "output_type": "execute_result"
    }
   ],
   "source": [
    "len(list_thumb)"
   ]
  },
  {
   "cell_type": "code",
   "execution_count": 19,
   "metadata": {},
   "outputs": [
    {
     "data": {
      "text/plain": [
       "2850"
      ]
     },
     "execution_count": 19,
     "metadata": {},
     "output_type": "execute_result"
    }
   ],
   "source": [
    "len(list(set(list_thumb)))"
   ]
  },
  {
   "cell_type": "code",
   "execution_count": 20,
   "metadata": {},
   "outputs": [],
   "source": [
    "def save_folder(id_obj,curr_thumb):\n",
    "    _META_PATH = os.path.join(_DATA_PATH,'meta_data')\n",
    "    id_folder = os.path.join(_META_PATH,str(id_obj))\n",
    "    if not os.path.isdir(id_folder):\n",
    "        os.mkdir(id_folder)\n",
    "        for idx_img, thumb in enumerate(curr_thumb):\n",
    "            img_url = thumb['thumbnail_url']\n",
    "            save_path = os.path.join(id_folder,str(idx_img)+'.jpg')\n",
    "            request.urlretrieve(img_url,save_path)"
   ]
  },
  {
   "cell_type": "code",
   "execution_count": 23,
   "metadata": {},
   "outputs": [
    {
     "data": {
      "text/plain": [
       "0"
      ]
     },
     "execution_count": 23,
     "metadata": {},
     "output_type": "execute_result"
    }
   ],
   "source": [
    "len(glob(os.path.join(_DATA_PATH,'meta_data','*')))"
   ]
  },
  {
   "cell_type": "code",
   "execution_count": null,
   "metadata": {
    "scrolled": true
   },
   "outputs": [
    {
     "name": "stderr",
     "output_type": "stream",
     "text": [
      " 13%|█▎        | 358/2851 [14:21<1:54:29,  2.76s/it]"
     ]
    },
    {
     "name": "stdout",
     "output_type": "stream",
     "text": [
      "Fail at 357 HTTP Error 400: Bad Request\n"
     ]
    },
    {
     "name": "stderr",
     "output_type": "stream",
     "text": [
      " 63%|██████▎   | 1809/2851 [1:14:20<34:49,  2.01s/it]  "
     ]
    }
   ],
   "source": [
    "for idx, item in tqdm(enumerate(list_thumb),total=len(list_thumb)):\n",
    "    try:\n",
    "#         print('item',item)\n",
    "        \n",
    "        mani_json = item.replace(r\"'\",r'\"').replace('None','\"None\"').replace('True','\"True\"')\n",
    "        \n",
    "        curr_thumb = json.loads(mani_json)\n",
    "        curr_id = list_id[idx]\n",
    "        \n",
    "        save_folder(curr_id,curr_thumb)\n",
    "#             save_path = os.path.join(_BUFFER,str(curr_id)+'_'+str(idx_img)+'.jpg')\n",
    "            \n",
    "#             request.urlretrieve(img_url,save_path)\n",
    "\n",
    "#             upload_drive(save_path,id_cloud)\n",
    "\n",
    "#         empty_buffer()\n",
    "    except Exception as e:\n",
    "        print('Fail at {}'.format(idx),str(e))\n",
    "#         empty_buffer()"
   ]
  }
 ],
 "metadata": {
  "kernelspec": {
   "display_name": "vision",
   "language": "python",
   "name": "vision"
  },
  "language_info": {
   "codemirror_mode": {
    "name": "ipython",
    "version": 3
   },
   "file_extension": ".py",
   "mimetype": "text/x-python",
   "name": "python",
   "nbconvert_exporter": "python",
   "pygments_lexer": "ipython3",
   "version": "3.6.13"
  }
 },
 "nbformat": 4,
 "nbformat_minor": 4
}
