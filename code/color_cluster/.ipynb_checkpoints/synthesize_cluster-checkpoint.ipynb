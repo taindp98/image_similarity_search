{
 "cells": [
  {
   "cell_type": "code",
   "execution_count": 51,
   "metadata": {},
   "outputs": [],
   "source": [
    "import pandas as pd\n",
    "import os\n",
    "from glob import glob\n",
    "import random"
   ]
  },
  {
   "cell_type": "code",
   "execution_count": 19,
   "metadata": {},
   "outputs": [
    {
     "data": {
      "text/plain": [
       "2"
      ]
     },
     "execution_count": 19,
     "metadata": {},
     "output_type": "execute_result"
    }
   ],
   "source": [
    "a = [1,2,3,4]\n",
    "random.choice(a)"
   ]
  },
  {
   "cell_type": "code",
   "execution_count": 41,
   "metadata": {},
   "outputs": [
    {
     "data": {
      "text/plain": [
       "1"
      ]
     },
     "execution_count": 41,
     "metadata": {},
     "output_type": "execute_result"
    }
   ],
   "source": [
    "random.randint(0,1)"
   ]
  },
  {
   "cell_type": "code",
   "execution_count": 3,
   "metadata": {},
   "outputs": [],
   "source": [
    "_RESOURCE_PATH = '../../resource'"
   ]
  },
  {
   "cell_type": "code",
   "execution_count": 4,
   "metadata": {
    "scrolled": true
   },
   "outputs": [
    {
     "data": {
      "text/plain": [
       "['../../resource/1100_1200.csv',\n",
       " '../../resource/200_300.csv',\n",
       " '../../resource/2400_2500.csv',\n",
       " '../../resource/800_900.csv',\n",
       " '../../resource/2300_2400.csv',\n",
       " '../../resource/500_600.csv',\n",
       " '../../resource/300_400.csv',\n",
       " '../../resource/1600_1700.csv',\n",
       " '../../resource/2600_2700.csv',\n",
       " '../../resource/2700_2800.csv',\n",
       " '../../resource/700_800.csv',\n",
       " '../../resource/2100_2200.csv',\n",
       " '../../resource/1900_2000.csv',\n",
       " '../../resource/2000_2100.csv',\n",
       " '../../resource/2800_2851.csv',\n",
       " '../../resource/1300_1400.csv',\n",
       " '../../resource/100_200.csv',\n",
       " '../../resource/400_500.csv',\n",
       " '../../resource/0_100.csv',\n",
       " '../../resource/1000_1100.csv',\n",
       " '../../resource/600_700.csv',\n",
       " '../../resource/900_1000.csv',\n",
       " '../../resource/1800_1900.csv',\n",
       " '../../resource/1500_1600.csv',\n",
       " '../../resource/1700_1800.csv',\n",
       " '../../resource/1200_1300.csv',\n",
       " '../../resource/1400_1500.csv',\n",
       " '../../resource/2500_2600.csv',\n",
       " '../../resource/2200_2300.csv']"
      ]
     },
     "execution_count": 4,
     "metadata": {},
     "output_type": "execute_result"
    }
   ],
   "source": [
    "list_csv = glob(os.path.join(_RESOURCE_PATH,'*.csv'))\n",
    "list_csv"
   ]
  },
  {
   "cell_type": "code",
   "execution_count": 10,
   "metadata": {},
   "outputs": [
    {
     "data": {
      "text/html": [
       "<div>\n",
       "<style scoped>\n",
       "    .dataframe tbody tr th:only-of-type {\n",
       "        vertical-align: middle;\n",
       "    }\n",
       "\n",
       "    .dataframe tbody tr th {\n",
       "        vertical-align: top;\n",
       "    }\n",
       "\n",
       "    .dataframe thead th {\n",
       "        text-align: right;\n",
       "    }\n",
       "</style>\n",
       "<table border=\"1\" class=\"dataframe\">\n",
       "  <thead>\n",
       "    <tr style=\"text-align: right;\">\n",
       "      <th></th>\n",
       "      <th>product</th>\n",
       "      <th>path</th>\n",
       "      <th>group</th>\n",
       "    </tr>\n",
       "  </thead>\n",
       "  <tbody>\n",
       "    <tr>\n",
       "      <th>0</th>\n",
       "      <td>66906355</td>\n",
       "      <td>../../data/meta_data/66906355/0.jpg</td>\n",
       "      <td>0</td>\n",
       "    </tr>\n",
       "    <tr>\n",
       "      <th>1</th>\n",
       "      <td>66906355</td>\n",
       "      <td>../../data/meta_data/66906355/1.jpg</td>\n",
       "      <td>0</td>\n",
       "    </tr>\n",
       "    <tr>\n",
       "      <th>2</th>\n",
       "      <td>66906355</td>\n",
       "      <td>../../data/meta_data/66906355/3.jpg</td>\n",
       "      <td>0</td>\n",
       "    </tr>\n",
       "    <tr>\n",
       "      <th>3</th>\n",
       "      <td>66906355</td>\n",
       "      <td>../../data/meta_data/66906355/4.jpg</td>\n",
       "      <td>0</td>\n",
       "    </tr>\n",
       "    <tr>\n",
       "      <th>4</th>\n",
       "      <td>66906355</td>\n",
       "      <td>../../data/meta_data/66906355/5.jpg</td>\n",
       "      <td>0</td>\n",
       "    </tr>\n",
       "    <tr>\n",
       "      <th>...</th>\n",
       "      <td>...</td>\n",
       "      <td>...</td>\n",
       "      <td>...</td>\n",
       "    </tr>\n",
       "    <tr>\n",
       "      <th>15527</th>\n",
       "      <td>89985941</td>\n",
       "      <td>../../data/meta_data/89985941/6.jpg</td>\n",
       "      <td>1</td>\n",
       "    </tr>\n",
       "    <tr>\n",
       "      <th>15528</th>\n",
       "      <td>89985941</td>\n",
       "      <td>../../data/meta_data/89985941/7.jpg</td>\n",
       "      <td>2</td>\n",
       "    </tr>\n",
       "    <tr>\n",
       "      <th>15529</th>\n",
       "      <td>89985941</td>\n",
       "      <td>../../data/meta_data/89985941/8.jpg</td>\n",
       "      <td>2</td>\n",
       "    </tr>\n",
       "    <tr>\n",
       "      <th>15530</th>\n",
       "      <td>89985941</td>\n",
       "      <td>../../data/meta_data/89985941/4.jpg</td>\n",
       "      <td>3</td>\n",
       "    </tr>\n",
       "    <tr>\n",
       "      <th>15531</th>\n",
       "      <td>89985941</td>\n",
       "      <td>../../data/meta_data/89985941/3.jpg</td>\n",
       "      <td>4</td>\n",
       "    </tr>\n",
       "  </tbody>\n",
       "</table>\n",
       "<p>15532 rows × 3 columns</p>\n",
       "</div>"
      ],
      "text/plain": [
       "        product                                 path  group\n",
       "0      66906355  ../../data/meta_data/66906355/0.jpg      0\n",
       "1      66906355  ../../data/meta_data/66906355/1.jpg      0\n",
       "2      66906355  ../../data/meta_data/66906355/3.jpg      0\n",
       "3      66906355  ../../data/meta_data/66906355/4.jpg      0\n",
       "4      66906355  ../../data/meta_data/66906355/5.jpg      0\n",
       "...         ...                                  ...    ...\n",
       "15527  89985941  ../../data/meta_data/89985941/6.jpg      1\n",
       "15528  89985941  ../../data/meta_data/89985941/7.jpg      2\n",
       "15529  89985941  ../../data/meta_data/89985941/8.jpg      2\n",
       "15530  89985941  ../../data/meta_data/89985941/4.jpg      3\n",
       "15531  89985941  ../../data/meta_data/89985941/3.jpg      4\n",
       "\n",
       "[15532 rows x 3 columns]"
      ]
     },
     "execution_count": 10,
     "metadata": {},
     "output_type": "execute_result"
    }
   ],
   "source": [
    "df_synth = pd.DataFrame([])\n",
    "\n",
    "for f in list_csv:\n",
    "    df_tmp = pd.read_csv(f)\n",
    "    df_synth = pd.concat([df_synth,df_tmp],axis=0)\n",
    "    \n",
    "df_synth.reset_index(drop=True)"
   ]
  },
  {
   "cell_type": "code",
   "execution_count": 11,
   "metadata": {},
   "outputs": [],
   "source": [
    "df_synth.to_csv(os.path.join(_RESOURCE_PATH,'full_cluster_product.csv'),header=True,index=False)"
   ]
  },
  {
   "cell_type": "code",
   "execution_count": 42,
   "metadata": {},
   "outputs": [
    {
     "data": {
      "text/html": [
       "<div>\n",
       "<style scoped>\n",
       "    .dataframe tbody tr th:only-of-type {\n",
       "        vertical-align: middle;\n",
       "    }\n",
       "\n",
       "    .dataframe tbody tr th {\n",
       "        vertical-align: top;\n",
       "    }\n",
       "\n",
       "    .dataframe thead th {\n",
       "        text-align: right;\n",
       "    }\n",
       "</style>\n",
       "<table border=\"1\" class=\"dataframe\">\n",
       "  <thead>\n",
       "    <tr style=\"text-align: right;\">\n",
       "      <th></th>\n",
       "      <th>product</th>\n",
       "      <th>path</th>\n",
       "      <th>group</th>\n",
       "    </tr>\n",
       "  </thead>\n",
       "  <tbody>\n",
       "    <tr>\n",
       "      <th>612</th>\n",
       "      <td>89985941</td>\n",
       "      <td>../../data/meta_data/89985941/0.jpg</td>\n",
       "      <td>0</td>\n",
       "    </tr>\n",
       "    <tr>\n",
       "      <th>613</th>\n",
       "      <td>89985941</td>\n",
       "      <td>../../data/meta_data/89985941/2.jpg</td>\n",
       "      <td>0</td>\n",
       "    </tr>\n",
       "    <tr>\n",
       "      <th>614</th>\n",
       "      <td>89985941</td>\n",
       "      <td>../../data/meta_data/89985941/5.jpg</td>\n",
       "      <td>0</td>\n",
       "    </tr>\n",
       "    <tr>\n",
       "      <th>615</th>\n",
       "      <td>89985941</td>\n",
       "      <td>../../data/meta_data/89985941/1.jpg</td>\n",
       "      <td>1</td>\n",
       "    </tr>\n",
       "    <tr>\n",
       "      <th>616</th>\n",
       "      <td>89985941</td>\n",
       "      <td>../../data/meta_data/89985941/6.jpg</td>\n",
       "      <td>1</td>\n",
       "    </tr>\n",
       "    <tr>\n",
       "      <th>617</th>\n",
       "      <td>89985941</td>\n",
       "      <td>../../data/meta_data/89985941/7.jpg</td>\n",
       "      <td>2</td>\n",
       "    </tr>\n",
       "    <tr>\n",
       "      <th>618</th>\n",
       "      <td>89985941</td>\n",
       "      <td>../../data/meta_data/89985941/8.jpg</td>\n",
       "      <td>2</td>\n",
       "    </tr>\n",
       "    <tr>\n",
       "      <th>619</th>\n",
       "      <td>89985941</td>\n",
       "      <td>../../data/meta_data/89985941/4.jpg</td>\n",
       "      <td>3</td>\n",
       "    </tr>\n",
       "    <tr>\n",
       "      <th>620</th>\n",
       "      <td>89985941</td>\n",
       "      <td>../../data/meta_data/89985941/3.jpg</td>\n",
       "      <td>4</td>\n",
       "    </tr>\n",
       "  </tbody>\n",
       "</table>\n",
       "</div>"
      ],
      "text/plain": [
       "      product                                 path  group\n",
       "612  89985941  ../../data/meta_data/89985941/0.jpg      0\n",
       "613  89985941  ../../data/meta_data/89985941/2.jpg      0\n",
       "614  89985941  ../../data/meta_data/89985941/5.jpg      0\n",
       "615  89985941  ../../data/meta_data/89985941/1.jpg      1\n",
       "616  89985941  ../../data/meta_data/89985941/6.jpg      1\n",
       "617  89985941  ../../data/meta_data/89985941/7.jpg      2\n",
       "618  89985941  ../../data/meta_data/89985941/8.jpg      2\n",
       "619  89985941  ../../data/meta_data/89985941/4.jpg      3\n",
       "620  89985941  ../../data/meta_data/89985941/3.jpg      4"
      ]
     },
     "execution_count": 42,
     "metadata": {},
     "output_type": "execute_result"
    }
   ],
   "source": [
    "df_synth[df_synth['product']==80713732]"
   ]
  },
  {
   "cell_type": "code",
   "execution_count": 49,
   "metadata": {},
   "outputs": [
    {
     "data": {
      "text/html": [
       "<div>\n",
       "<style scoped>\n",
       "    .dataframe tbody tr th:only-of-type {\n",
       "        vertical-align: middle;\n",
       "    }\n",
       "\n",
       "    .dataframe tbody tr th {\n",
       "        vertical-align: top;\n",
       "    }\n",
       "\n",
       "    .dataframe thead th {\n",
       "        text-align: right;\n",
       "    }\n",
       "</style>\n",
       "<table border=\"1\" class=\"dataframe\">\n",
       "  <thead>\n",
       "    <tr style=\"text-align: right;\">\n",
       "      <th></th>\n",
       "      <th>product</th>\n",
       "      <th>path</th>\n",
       "      <th>group</th>\n",
       "    </tr>\n",
       "  </thead>\n",
       "  <tbody>\n",
       "    <tr>\n",
       "      <th>612</th>\n",
       "      <td>89985941</td>\n",
       "      <td>../../data/meta_data/89985941/0.jpg</td>\n",
       "      <td>0</td>\n",
       "    </tr>\n",
       "    <tr>\n",
       "      <th>613</th>\n",
       "      <td>89985941</td>\n",
       "      <td>../../data/meta_data/89985941/2.jpg</td>\n",
       "      <td>0</td>\n",
       "    </tr>\n",
       "    <tr>\n",
       "      <th>614</th>\n",
       "      <td>89985941</td>\n",
       "      <td>../../data/meta_data/89985941/5.jpg</td>\n",
       "      <td>0</td>\n",
       "    </tr>\n",
       "  </tbody>\n",
       "</table>\n",
       "</div>"
      ],
      "text/plain": [
       "      product                                 path  group\n",
       "612  89985941  ../../data/meta_data/89985941/0.jpg      0\n",
       "613  89985941  ../../data/meta_data/89985941/2.jpg      0\n",
       "614  89985941  ../../data/meta_data/89985941/5.jpg      0"
      ]
     },
     "execution_count": 49,
     "metadata": {},
     "output_type": "execute_result"
    }
   ],
   "source": [
    "df_synth[(df_synth['product']==80713732) & (df_synth['group']==0)]"
   ]
  }
 ],
 "metadata": {
  "kernelspec": {
   "display_name": "vision",
   "language": "python",
   "name": "vision"
  },
  "language_info": {
   "codemirror_mode": {
    "name": "ipython",
    "version": 3
   },
   "file_extension": ".py",
   "mimetype": "text/x-python",
   "name": "python",
   "nbconvert_exporter": "python",
   "pygments_lexer": "ipython3",
   "version": "3.6.13"
  }
 },
 "nbformat": 4,
 "nbformat_minor": 4
}
