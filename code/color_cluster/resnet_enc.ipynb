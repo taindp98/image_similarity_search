{
 "cells": [
  {
   "cell_type": "code",
   "execution_count": 1,
   "metadata": {},
   "outputs": [],
   "source": [
    "import torch\n",
    "import torch.nn as nn\n",
    "from torch.autograd import Variable\n",
    "from torchvision import models, transforms\n",
    "from PIL import Image\n",
    "import numpy as np\n",
    "import os, glob\n",
    "from tqdm import tqdm"
   ]
  },
  {
   "cell_type": "code",
   "execution_count": 2,
   "metadata": {},
   "outputs": [],
   "source": [
    "_IMG_PATH = '../../data/meta_data'\n",
    "_RESOURCE_PATH = '../../resource/'"
   ]
  },
  {
   "cell_type": "code",
   "execution_count": 3,
   "metadata": {},
   "outputs": [],
   "source": [
    "class ResNet(nn.Module):\n",
    "    def __init__(self):\n",
    "        super(ResNet, self).__init__()\n",
    "        self.net = models.resnet50(pretrained=True)\n",
    " \n",
    "    def forward(self, input):\n",
    "        output = self.net.conv1(input)\n",
    "        output = self.net.bn1(output)\n",
    "        output = self.net.relu(output)\n",
    "        output = self.net.maxpool(output)\n",
    "        output = self.net.layer1(output)\n",
    "        output = self.net.layer2(output)\n",
    "        output = self.net.layer3(output)\n",
    "        output = self.net.layer4(output)\n",
    "        output = self.net.avgpool(output)\n",
    "        return output"
   ]
  },
  {
   "cell_type": "code",
   "execution_count": 4,
   "metadata": {
    "scrolled": true
   },
   "outputs": [],
   "source": [
    "model = ResNet()"
   ]
  },
  {
   "cell_type": "code",
   "execution_count": 5,
   "metadata": {},
   "outputs": [],
   "source": [
    "# 224*224"
   ]
  },
  {
   "cell_type": "code",
   "execution_count": 6,
   "metadata": {},
   "outputs": [],
   "source": [
    "def extractor(img_path, saved_path, net, use_gpu):\n",
    "    transform = transforms.Compose([\n",
    "        transforms.Resize(256),\n",
    "        transforms.CenterCrop(224),\n",
    "        transforms.ToTensor()]\n",
    "    )\n",
    " \n",
    "    img = Image.open(img_path)\n",
    "    img = transform(img)\n",
    "#     print(img.shape)\n",
    " \n",
    "    x = Variable(torch.unsqueeze(img, dim=0).float(), requires_grad=False)\n",
    "#     print(x.shape)\n",
    " \n",
    "    if use_gpu:\n",
    "        x = x.cuda()\n",
    "        net = net.cuda()\n",
    "    y = net(x).cpu()\n",
    "    y = torch.squeeze(y)\n",
    "    y = y.data.numpy()\n",
    "    \n",
    "    torch.save(y,saved_path)\n",
    "#     print(y.shape)\n",
    "#     np.savetxt(saved_path, y, delimiter=',')"
   ]
  },
  {
   "cell_type": "code",
   "execution_count": 7,
   "metadata": {},
   "outputs": [],
   "source": [
    "use_gpu = torch.cuda.is_available()"
   ]
  },
  {
   "cell_type": "code",
   "execution_count": 8,
   "metadata": {},
   "outputs": [],
   "source": [
    "list_product_id = glob.glob(os.path.join(_IMG_PATH,'*'))"
   ]
  },
  {
   "cell_type": "code",
   "execution_count": 10,
   "metadata": {
    "scrolled": true
   },
   "outputs": [
    {
     "name": "stderr",
     "output_type": "stream",
     "text": [
      "\r",
      "  0%|          | 0/2850 [00:00<?, ?it/s]"
     ]
    },
    {
     "name": "stdout",
     "output_type": "stream",
     "text": [
      "Feature encoder ../../data/meta_data/90077000 existing\n",
      "Feature encoder ../../data/meta_data/93936148 existing\n",
      "Feature encoder ../../data/meta_data/11403140 existing\n",
      "Feature encoder ../../data/meta_data/58217083 existing\n",
      "Feature encoder ../../data/meta_data/22670247 existing\n",
      "Feature encoder ../../data/meta_data/66106081 existing\n",
      "Feature encoder ../../data/meta_data/92291500 existing\n",
      "Feature encoder ../../data/meta_data/51420143 existing\n",
      "Feature encoder ../../data/meta_data/95009698 existing\n",
      "Feature encoder ../../data/meta_data/36867803 existing\n",
      "Feature encoder ../../data/meta_data/51059920 existing\n",
      "Feature encoder ../../data/meta_data/72031845 existing\n",
      "Feature encoder ../../data/meta_data/21261403 existing\n",
      "Feature encoder ../../data/meta_data/10056536 existing\n",
      "Feature encoder ../../data/meta_data/91764645 existing\n",
      "Feature encoder ../../data/meta_data/92715415 existing\n",
      "Feature encoder ../../data/meta_data/89113153 existing\n",
      "Feature encoder ../../data/meta_data/95868619 existing\n",
      "Feature encoder ../../data/meta_data/5360377 existing\n",
      "Feature encoder ../../data/meta_data/58919956 existing\n",
      "Feature encoder ../../data/meta_data/95870069 existing\n",
      "Feature encoder ../../data/meta_data/58227717 existing\n",
      "Feature encoder ../../data/meta_data/58009772 existing\n",
      "Feature encoder ../../data/meta_data/26270347 existing\n",
      "Feature encoder ../../data/meta_data/91779229 existing\n",
      "Feature encoder ../../data/meta_data/53447445 existing\n",
      "Feature encoder ../../data/meta_data/39705860 existing\n",
      "Feature encoder ../../data/meta_data/51096950 existing\n",
      "Feature encoder ../../data/meta_data/93935719 existing\n",
      "Feature encoder ../../data/meta_data/91976584 existing\n",
      "Feature encoder ../../data/meta_data/7471787 existing\n",
      "Feature encoder ../../data/meta_data/92754246 existing\n",
      "Feature encoder ../../data/meta_data/68189820 existing\n",
      "Feature encoder ../../data/meta_data/46640535 existing\n",
      "Feature encoder ../../data/meta_data/81977416 existing\n",
      "Feature encoder ../../data/meta_data/87729990 existing\n",
      "Feature encoder ../../data/meta_data/72069933 existing\n",
      "Feature encoder ../../data/meta_data/86383561 existing\n",
      "Feature encoder ../../data/meta_data/67320431 existing\n",
      "Feature encoder ../../data/meta_data/57952541 existing\n",
      "Feature encoder ../../data/meta_data/47166863 existing\n",
      "Feature encoder ../../data/meta_data/28438279 existing\n",
      "Feature encoder ../../data/meta_data/69508525 existing\n",
      "Feature encoder ../../data/meta_data/91033700 existing\n",
      "Feature encoder ../../data/meta_data/90465124 existing\n",
      "Feature encoder ../../data/meta_data/92715794 existing\n",
      "Feature encoder ../../data/meta_data/75987880 existing\n",
      "Feature encoder ../../data/meta_data/45678935 existing\n",
      "Feature encoder ../../data/meta_data/66906433 existing\n",
      "Feature encoder ../../data/meta_data/87942137 existing\n",
      "Feature encoder ../../data/meta_data/93066098 existing\n",
      "Feature encoder ../../data/meta_data/86383640 existing\n",
      "Feature encoder ../../data/meta_data/73127969 existing\n",
      "Feature encoder ../../data/meta_data/91033843 existing\n",
      "Feature encoder ../../data/meta_data/45877244 existing\n",
      "Feature encoder ../../data/meta_data/89769394 existing\n",
      "Feature encoder ../../data/meta_data/57953211 existing\n",
      "Feature encoder ../../data/meta_data/90513812 existing\n",
      "Feature encoder ../../data/meta_data/22297091 existing\n",
      "Feature encoder ../../data/meta_data/90085909 existing\n",
      "Feature encoder ../../data/meta_data/89769442 existing\n",
      "Feature encoder ../../data/meta_data/69679165 existing\n",
      "Feature encoder ../../data/meta_data/46191364 existing\n",
      "Feature encoder ../../data/meta_data/63273112 existing\n",
      "Feature encoder ../../data/meta_data/91764688 existing\n",
      "Feature encoder ../../data/meta_data/90475657 existing\n",
      "Feature encoder ../../data/meta_data/57941521 existing\n",
      "Feature encoder ../../data/meta_data/88050928 existing\n",
      "Feature encoder ../../data/meta_data/90375625 existing\n",
      "Feature encoder ../../data/meta_data/73294288 existing\n",
      "Feature encoder ../../data/meta_data/70649033 existing\n",
      "Feature encoder ../../data/meta_data/89058102 existing\n",
      "Feature encoder ../../data/meta_data/94553672 existing\n",
      "Feature encoder ../../data/meta_data/5372061 existing\n",
      "Feature encoder ../../data/meta_data/14076732 existing\n",
      "Feature encoder ../../data/meta_data/92716869 existing\n",
      "Feature encoder ../../data/meta_data/94675913 existing\n",
      "Feature encoder ../../data/meta_data/89303952 existing\n",
      "Feature encoder ../../data/meta_data/84999761 existing\n",
      "Feature encoder ../../data/meta_data/71903325 existing\n",
      "Feature encoder ../../data/meta_data/92499035 existing\n",
      "Feature encoder ../../data/meta_data/90608393 existing\n",
      "Feature encoder ../../data/meta_data/69452396 existing\n",
      "Feature encoder ../../data/meta_data/84457248 existing\n",
      "Feature encoder ../../data/meta_data/36266812 existing\n",
      "Feature encoder ../../data/meta_data/89303624 existing\n",
      "Feature encoder ../../data/meta_data/66906355 existing\n",
      "Feature encoder ../../data/meta_data/89769592 existing\n",
      "Feature encoder ../../data/meta_data/95740551 existing\n",
      "Feature encoder ../../data/meta_data/92714865 existing\n",
      "Feature encoder ../../data/meta_data/41874872 existing\n",
      "Feature encoder ../../data/meta_data/87135427 existing\n",
      "Feature encoder ../../data/meta_data/43018238 existing\n",
      "Feature encoder ../../data/meta_data/47727429 existing\n",
      "Feature encoder ../../data/meta_data/74504481 existing\n",
      "Feature encoder ../../data/meta_data/48695604 existing\n",
      "Feature encoder ../../data/meta_data/73867500 existing\n",
      "Feature encoder ../../data/meta_data/89986642 existing\n",
      "Feature encoder ../../data/meta_data/22956273 existing\n",
      "Feature encoder ../../data/meta_data/58374027 existing\n",
      "Feature encoder ../../data/meta_data/95870273 existing\n",
      "Feature encoder ../../data/meta_data/92753277 existing\n",
      "Feature encoder ../../data/meta_data/73293838 existing\n",
      "Feature encoder ../../data/meta_data/51420172 existing\n",
      "Feature encoder ../../data/meta_data/7855422 existing\n",
      "Feature encoder ../../data/meta_data/57953183 existing\n",
      "Feature encoder ../../data/meta_data/32932298 existing\n",
      "Feature encoder ../../data/meta_data/43694638 existing\n",
      "Feature encoder ../../data/meta_data/96044098 existing\n",
      "Feature encoder ../../data/meta_data/6077843 existing\n",
      "Feature encoder ../../data/meta_data/56873418 existing\n",
      "Feature encoder ../../data/meta_data/82700071 existing\n",
      "Feature encoder ../../data/meta_data/80325189 existing\n",
      "Feature encoder ../../data/meta_data/88772378 existing\n",
      "Feature encoder ../../data/meta_data/22297181 existing\n",
      "Feature encoder ../../data/meta_data/69507402 existing\n",
      "Feature encoder ../../data/meta_data/43018197 existing\n",
      "Feature encoder ../../data/meta_data/81028309 existing\n",
      "Feature encoder ../../data/meta_data/5175501 existing\n",
      "Feature encoder ../../data/meta_data/50739274 existing\n",
      "Feature encoder ../../data/meta_data/49049408 existing\n",
      "Feature encoder ../../data/meta_data/45467765 existing\n",
      "Feature encoder ../../data/meta_data/46775965 existing\n",
      "Feature encoder ../../data/meta_data/89302758 existing\n",
      "Feature encoder ../../data/meta_data/82504472 existing\n",
      "Feature encoder ../../data/meta_data/76562385 existing\n",
      "Feature encoder ../../data/meta_data/21417275 existing\n",
      "Feature encoder ../../data/meta_data/95253409 existing\n",
      "Feature encoder ../../data/meta_data/51293551 existing\n",
      "Feature encoder ../../data/meta_data/48695613 existing\n",
      "Feature encoder ../../data/meta_data/91474693 existing\n",
      "Feature encoder ../../data/meta_data/88257138 existing\n",
      "Feature encoder ../../data/meta_data/95865801 existing\n",
      "Feature encoder ../../data/meta_data/89303134 existing\n",
      "Feature encoder ../../data/meta_data/84885018 existing\n",
      "Feature encoder ../../data/meta_data/85046362 existing\n",
      "Feature encoder ../../data/meta_data/84912358 existing\n",
      "Feature encoder ../../data/meta_data/28670112 existing\n",
      "Feature encoder ../../data/meta_data/79564125 existing\n",
      "Feature encoder ../../data/meta_data/92714711 existing\n",
      "Feature encoder ../../data/meta_data/95869993 existing\n",
      "Feature encoder ../../data/meta_data/51690489 existing\n",
      "Feature encoder ../../data/meta_data/88039684 existing\n",
      "Feature encoder ../../data/meta_data/75801935 existing\n",
      "Feature encoder ../../data/meta_data/69451467 existing\n",
      "Feature encoder ../../data/meta_data/40405049 existing\n",
      "Feature encoder ../../data/meta_data/73294531 existing\n",
      "Feature encoder ../../data/meta_data/49990440 existing\n",
      "Feature encoder ../../data/meta_data/50581108 existing\n",
      "Feature encoder ../../data/meta_data/89303878 existing\n",
      "Feature encoder ../../data/meta_data/76050063 existing\n",
      "Feature encoder ../../data/meta_data/40924506 existing\n",
      "Feature encoder ../../data/meta_data/79562792 existing\n",
      "Feature encoder ../../data/meta_data/92715511 existing\n",
      "Feature encoder ../../data/meta_data/96013520 existing\n",
      "Feature encoder ../../data/meta_data/91764516 existing\n",
      "Feature encoder ../../data/meta_data/43076837 existing\n",
      "Feature encoder ../../data/meta_data/92716643 existing\n",
      "Feature encoder ../../data/meta_data/69677805 existing\n",
      "Feature encoder ../../data/meta_data/66906250 existing\n",
      "Feature encoder ../../data/meta_data/73774219 existing\n",
      "Feature encoder ../../data/meta_data/22022180 existing\n",
      "Feature encoder ../../data/meta_data/90431181 existing\n",
      "Feature encoder ../../data/meta_data/44250771 existing\n",
      "Feature encoder ../../data/meta_data/88914547 existing\n",
      "Feature encoder ../../data/meta_data/89113391 existing\n",
      "Feature encoder ../../data/meta_data/5150499 existing\n",
      "Feature encoder ../../data/meta_data/92715481 existing\n",
      "Feature encoder ../../data/meta_data/7734231 existing\n",
      "Feature encoder ../../data/meta_data/84455704 existing\n",
      "Feature encoder ../../data/meta_data/83921149 existing\n",
      "Feature encoder ../../data/meta_data/82948386 existing\n",
      "Feature encoder ../../data/meta_data/48722319 existing\n",
      "Feature encoder ../../data/meta_data/86381743 existing\n",
      "Feature encoder ../../data/meta_data/67335462 existing\n",
      "Feature encoder ../../data/meta_data/68279049 existing\n",
      "Feature encoder ../../data/meta_data/45288360 existing\n",
      "Feature encoder ../../data/meta_data/62361458 existing\n",
      "Feature encoder ../../data/meta_data/21400376 existing\n",
      "Feature encoder ../../data/meta_data/91020732 existing\n",
      "Feature encoder ../../data/meta_data/46640375 existing\n",
      "Feature encoder ../../data/meta_data/54534468 existing\n",
      "Feature encoder ../../data/meta_data/88040680 existing\n",
      "Feature encoder ../../data/meta_data/51320534 existing\n",
      "Feature encoder ../../data/meta_data/76167981 existing\n"
     ]
    },
    {
     "name": "stderr",
     "output_type": "stream",
     "text": [
      "  9%|▉         | 265/2850 [02:01<1:09:42,  1.62s/it]"
     ]
    },
    {
     "name": "stdout",
     "output_type": "stream",
     "text": [
      "Fail at ../../data/meta_data/44143547\n"
     ]
    },
    {
     "name": "stderr",
     "output_type": "stream",
     "text": [
      " 11%|█         | 301/2850 [02:44<50:27,  1.19s/it]  "
     ]
    },
    {
     "name": "stdout",
     "output_type": "stream",
     "text": [
      "Fail at ../../data/meta_data/76165630\n"
     ]
    },
    {
     "name": "stderr",
     "output_type": "stream",
     "text": [
      " 13%|█▎        | 369/2850 [04:08<31:40,  1.31it/s]  "
     ]
    },
    {
     "name": "stdout",
     "output_type": "stream",
     "text": [
      "Fail at ../../data/meta_data/68228621\n"
     ]
    },
    {
     "name": "stderr",
     "output_type": "stream",
     "text": [
      " 28%|██▊       | 801/2850 [13:00<28:32,  1.20it/s]  "
     ]
    },
    {
     "name": "stdout",
     "output_type": "stream",
     "text": [
      "Fail at ../../data/meta_data/76165656\n"
     ]
    },
    {
     "name": "stderr",
     "output_type": "stream",
     "text": [
      " 46%|████▌     | 1304/2850 [23:35<25:51,  1.00s/it]  "
     ]
    },
    {
     "name": "stdout",
     "output_type": "stream",
     "text": [
      "Fail at ../../data/meta_data/85375554\n"
     ]
    },
    {
     "name": "stderr",
     "output_type": "stream",
     "text": [
      " 49%|████▊     | 1385/2850 [25:31<29:10,  1.19s/it]  "
     ]
    },
    {
     "name": "stdout",
     "output_type": "stream",
     "text": [
      "Fail at ../../data/meta_data/45305642\n"
     ]
    },
    {
     "name": "stderr",
     "output_type": "stream",
     "text": [
      " 51%|█████     | 1440/2850 [26:36<18:57,  1.24it/s]"
     ]
    },
    {
     "name": "stdout",
     "output_type": "stream",
     "text": [
      "Fail at ../../data/meta_data/44143400\n"
     ]
    },
    {
     "name": "stderr",
     "output_type": "stream",
     "text": [
      " 56%|█████▌    | 1597/2850 [29:55<27:44,  1.33s/it]"
     ]
    },
    {
     "name": "stdout",
     "output_type": "stream",
     "text": [
      "Fail at ../../data/meta_data/90531483\n"
     ]
    },
    {
     "name": "stderr",
     "output_type": "stream",
     "text": [
      " 57%|█████▋    | 1628/2850 [30:36<33:09,  1.63s/it]"
     ]
    },
    {
     "name": "stdout",
     "output_type": "stream",
     "text": [
      "Fail at ../../data/meta_data/26089688\n"
     ]
    },
    {
     "name": "stderr",
     "output_type": "stream",
     "text": [
      " 59%|█████▉    | 1677/2850 [31:31<16:08,  1.21it/s]"
     ]
    },
    {
     "name": "stdout",
     "output_type": "stream",
     "text": [
      "Fail at ../../data/meta_data/83689784\n"
     ]
    },
    {
     "name": "stderr",
     "output_type": "stream",
     "text": [
      " 72%|███████▏  | 2049/2850 [39:28<13:02,  1.02it/s]"
     ]
    },
    {
     "name": "stdout",
     "output_type": "stream",
     "text": [
      "Fail at ../../data/meta_data/11137979\n"
     ]
    },
    {
     "name": "stderr",
     "output_type": "stream",
     "text": [
      " 77%|███████▋  | 2193/2850 [42:22<14:17,  1.30s/it]"
     ]
    },
    {
     "name": "stdout",
     "output_type": "stream",
     "text": [
      "Fail at ../../data/meta_data/81028375\n"
     ]
    },
    {
     "name": "stderr",
     "output_type": "stream",
     "text": [
      " 78%|███████▊  | 2217/2850 [42:51<13:17,  1.26s/it]"
     ]
    },
    {
     "name": "stdout",
     "output_type": "stream",
     "text": [
      "Fail at ../../data/meta_data/58722923\n"
     ]
    },
    {
     "name": "stderr",
     "output_type": "stream",
     "text": [
      " 79%|███████▉  | 2260/2850 [43:44<10:06,  1.03s/it]"
     ]
    },
    {
     "name": "stdout",
     "output_type": "stream",
     "text": [
      "Fail at ../../data/meta_data/44246831\n"
     ]
    },
    {
     "name": "stderr",
     "output_type": "stream",
     "text": [
      " 87%|████████▋ | 2489/2850 [48:41<07:01,  1.17s/it]"
     ]
    },
    {
     "name": "stdout",
     "output_type": "stream",
     "text": [
      "Fail at ../../data/meta_data/76165660\n"
     ]
    },
    {
     "name": "stderr",
     "output_type": "stream",
     "text": [
      " 91%|█████████▏| 2601/2850 [50:45<05:29,  1.32s/it]"
     ]
    },
    {
     "name": "stdout",
     "output_type": "stream",
     "text": [
      "Fail at ../../data/meta_data/49724422\n"
     ]
    },
    {
     "name": "stderr",
     "output_type": "stream",
     "text": [
      "100%|██████████| 2850/2850 [56:05<00:00,  1.18s/it]\n"
     ]
    }
   ],
   "source": [
    "for obj_id  in tqdm(list_product_id,total=len(list_product_id)):\n",
    "    try:\n",
    "        save_path = os.path.join(_RESOURCE_PATH,'feature_enc',obj_id.split('/')[-1])\n",
    "    #     print(save_path)\n",
    "        if not os.path.isdir(save_path):\n",
    "            os.mkdir(save_path)\n",
    "            for idx, item in enumerate(glob.glob(os.path.join(obj_id,'*.jpg'))):\n",
    "                curr_feature = os.path.join(save_path,str(idx)+'.h5')\n",
    "                extractor(item, curr_feature, model, use_gpu)\n",
    "        else:\n",
    "            print('Feature encoder {} existing'.format(obj_id))\n",
    "    except Exception as e:\n",
    "        print('Fail at {}'.format(obj_id))"
   ]
  }
 ],
 "metadata": {
  "kernelspec": {
   "display_name": "vision",
   "language": "python",
   "name": "vision"
  },
  "language_info": {
   "codemirror_mode": {
    "name": "ipython",
    "version": 3
   },
   "file_extension": ".py",
   "mimetype": "text/x-python",
   "name": "python",
   "nbconvert_exporter": "python",
   "pygments_lexer": "ipython3",
   "version": "3.6.13"
  }
 },
 "nbformat": 4,
 "nbformat_minor": 4
}
